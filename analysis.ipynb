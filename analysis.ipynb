{
 "cells": [
  {
   "cell_type": "markdown",
   "metadata": {},
   "source": [
    "### We provide an additional analysis on the limitation of current common MI evaluation framework by computing FP rates. The details can be found in the paper. \n",
    "\n",
    "1. Prepare the assessment of MI attacks by current common MI evaluation framework. It should have the same structure with the assessment of MI attacks using our MLLM-based MI evaluation framework. One example is `AttackSamples/CelebA/KEDMI/FFHQ/FaceNet64/prediction.csv`. In this Supplementary, we provide such files for 26 different MI setups in the `AttackSamples` directory\n",
    "\n",
    "2. Run the cell below to compute some attribute accuracy.\n"
   ]
  },
  {
   "cell_type": "code",
   "execution_count": 2,
   "metadata": {},
   "outputs": [
    {
     "name": "stdout",
     "output_type": "stream",
     "text": [
      "1500\n",
      "\n",
      "Confusion Matrix Metrics:\n",
      "TP: 805\n",
      "TN: 111\n",
      "FP: 403\n",
      "FN: 181\n",
      "\n",
      "Attribute Accuracy:\n",
      "AttAcc_F_Gemini: 65.73\n",
      "AttAcc_F_Curr: 80.53\n",
      "FPR: 78.40\n",
      "FNR: 18.36\n",
      "TPR: 81.64\n",
      "TNR: 21.60\n"
     ]
    }
   ],
   "source": [
    "import os\n",
    "from utility import *\n",
    "\n",
    "\n",
    "base_path = \"AttackSamples/CelebA/KEDMI/CelebA/FaceNet64\"   #Path to the MI folder that contains the ground truth and prediction csv files\n",
    "\n",
    "ground_truth_path = os.path.join(base_path, \"gemini_results.csv\")\n",
    "prediction_path = os.path.join(base_path, \"prediction.csv\")\n",
    "\n",
    "metrics = compute_metrics(ground_truth_path, prediction_path)"
   ]
  }
 ],
 "metadata": {
  "kernelspec": {
   "display_name": "base",
   "language": "python",
   "name": "python3"
  },
  "language_info": {
   "codemirror_mode": {
    "name": "ipython",
    "version": 3
   },
   "file_extension": ".py",
   "mimetype": "text/x-python",
   "name": "python",
   "nbconvert_exporter": "python",
   "pygments_lexer": "ipython3",
   "version": "3.9.12"
  }
 },
 "nbformat": 4,
 "nbformat_minor": 2
}
