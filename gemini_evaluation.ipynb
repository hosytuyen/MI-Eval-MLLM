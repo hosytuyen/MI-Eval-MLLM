{
 "cells": [
  {
   "cell_type": "markdown",
   "metadata": {},
   "source": [
    "### To use our MLLM-based MI Evaluation, includes two step:"
   ]
  },
  {
   "cell_type": "markdown",
   "metadata": {},
   "source": [
    "##### Step 1: Create Gemini Query"
   ]
  },
  {
   "cell_type": "code",
   "execution_count": 8,
   "metadata": {},
   "outputs": [],
   "source": [
    "from utility import *\n",
    "\n",
    "# Replace with the path to your MI folder\n",
    "mi_folder = \"AttackSamples/CelebA/KEDMI/CelebA/FaceNet64_/all-images\"\n",
    "parts = mi_folder.split(os.sep)\n",
    "private_image_folder = os.path.join(os.path.join(parts[0], parts[1]), \"private-data\")\n",
    "output_folder = mi_folder.replace(\"all-images\", \"user-study\")\n",
    "create_concatenated_images_with_labels(private_image_folder, mi_folder, output_folder)"
   ]
  },
  {
   "cell_type": "markdown",
   "metadata": {},
   "source": [
    "##### Step 2: Using Gemeni to compute attack accuracy"
   ]
  },
  {
   "cell_type": "code",
   "execution_count": null,
   "metadata": {},
   "outputs": [],
   "source": [
    "from utility import *\n",
    "\n",
    "# Replace with your Gemini API key\n",
    "GEMINI_API_KEY = \"Your Gemini API key\"\n",
    "evaluate_images_in_directory(output_folder, GEMINI_API_KEY, max_images=10000)"
   ]
  }
 ],
 "metadata": {
  "kernelspec": {
   "display_name": "base",
   "language": "python",
   "name": "python3"
  },
  "language_info": {
   "codemirror_mode": {
    "name": "ipython",
    "version": 3
   },
   "file_extension": ".py",
   "mimetype": "text/x-python",
   "name": "python",
   "nbconvert_exporter": "python",
   "pygments_lexer": "ipython3",
   "version": "3.9.12"
  }
 },
 "nbformat": 4,
 "nbformat_minor": 2
}
